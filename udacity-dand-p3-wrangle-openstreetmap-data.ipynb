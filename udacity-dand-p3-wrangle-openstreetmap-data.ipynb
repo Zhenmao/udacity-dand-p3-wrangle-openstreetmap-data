{
 "cells": [
  {
   "cell_type": "markdown",
   "metadata": {},
   "source": [
    "# Wrangle OpenStreetMap Data"
   ]
  },
  {
   "cell_type": "markdown",
   "metadata": {},
   "source": [
    "## 1 Introduction"
   ]
  },
  {
   "cell_type": "markdown",
   "metadata": {},
   "source": [
    "In the report, I will wrangle the OpenStreetMap data of Manhattan, New York, United States.\n",
    "\n",
    "First, I will audit the dataset to find out if there is any problem within the dataset that needs to be fixed. Next, I will use SQL queries to obtain an overview of the dataset. Last, I will provide some ideas to further improve and analyze the dataset."
   ]
  },
  {
   "cell_type": "markdown",
   "metadata": {},
   "source": [
    "### Map Area\n",
    "\n",
    "New York (Manhattan), New York, United States I've obtained [a custom extract](Manhattan_NewYork_US.osm.bz2) that includes the Manhattan borough of New York City through Mapzen. I have chosen this area because I had lived in New York City for several years, and I really liked strolling along the streets of the city. I would like to find out if I will be able to find some interesting facts about the city I love by investigating the OpenStreetMap data."
   ]
  },
  {
   "cell_type": "code",
   "execution_count": 1,
   "metadata": {
    "collapsed": true
   },
   "outputs": [],
   "source": [
    "OSM_FILE = 'Manhattan_NewYork_US.osm'"
   ]
  },
  {
   "cell_type": "markdown",
   "metadata": {},
   "source": [
    "## 2 Auditing and Problems Encountered in the Map"
   ]
  },
  {
   "cell_type": "code",
   "execution_count": 2,
   "metadata": {
    "collapsed": true
   },
   "outputs": [],
   "source": [
    "import xml.etree.cElementTree as ET\n",
    "from collections import defaultdict\n",
    "import re\n",
    "import pprint"
   ]
  },
  {
   "cell_type": "markdown",
   "metadata": {},
   "source": [
    "### 2.1 Map Extracts Included Surrounding Areas and Inconsistent Zip Codes\n",
    "\n",
    "**Examples: \"10001\", \"10001-2062\", \"NY 11106\", \"New York, NY 10065\"**\n",
    "\n",
    "Because of the way in which the data extract is generated, areas that surrounding Manhattan are also included in this dataset. I suspect that the dataset includes parts of other New York City boroughs and some parts of New Jersey. To confirm this, I will look at the zip codes distribution of our dataset. \n",
    "\n",
    "Because there is inconsistency in the zip code formats, I will fix that before aggregate the zip codes. I will use a update_zip_code function to update the zip code formats to a 5-digit zip code format (e.g. \"10001\") for more consistent queries. If more than one zip code is listed for any given address,I will keep only the first one."
   ]
  },
  {
   "cell_type": "code",
   "execution_count": 3,
   "metadata": {
    "collapsed": true
   },
   "outputs": [],
   "source": [
    "# ================================================== #\n",
    "#      Helper Functions for Auditing Zip Codes       #\n",
    "# ================================================== #\n",
    "def is_zip_code(elem):\n",
    "    return (elem.attrib['k'] == 'addr:postcode')\n",
    "\n",
    "def audit_zip_codes(zip_code_formats, zip_codes_distribution, zip_code):\n",
    "    '''Audit zip codes\n",
    "    \n",
    "    This function updates two dictionaries showing the distribution of zip code formats\n",
    "    and the distribution of zip code areas.\n",
    "    \n",
    "    Arg:\n",
    "    zip_code_formats: A dictionary of zip code format: counts of zip code in that format\n",
    "    zip_codes_distribution: A dictionary of zip code area name: counts of zip codes in that area\n",
    "    zip_code: A zip code\n",
    "    '''\n",
    "    \n",
    "    # Audit zip code formats\n",
    "    # Convert any digit to an 'X' sign (e.g. 'NY 10001' becomes 'NY XXXXX')\n",
    "    zip_code_format = re.sub('\\d', 'X', zip_code)\n",
    "    zip_code_formats[zip_code_format] += 1\n",
    "    \n",
    "    # Audit zip code areas\n",
    "    # Convert zip code to its corresponding area name\n",
    "    zip_code = re.sub('\\D', '', zip_code) # Only look at zip code digits\n",
    "    if re.match(r'^10[0-2]', zip_code): # Manhattan: 100XX, 101XX, 102XX\n",
    "        zip_codes_distribution['Manhattan'] += 1\n",
    "    elif re.match(r'^104', zip_code): # Bronx: 104XX\n",
    "        zip_codes_distribution['Bronx'] += 1\n",
    "    elif re.match(r'^112', zip_code): # Brooklyn: 112XX\n",
    "        zip_codes_distribution['Brooklyn'] += 1\n",
    "    elif re.match(r'^103', zip_code): # Staten Island: 103XX\n",
    "        zip_codes_distribution['Staten Island'] += 1\n",
    "    elif re.match(r'^11', zip_code): # Queens: 11XXX\n",
    "        zip_codes_distribution['Queens'] += 1\n",
    "    elif re.match(r'^07', zip_code): # New Jersey: 07XXX\n",
    "        zip_codes_distribution['New Jersey'] += 1\n",
    "    else:\n",
    "        zip_codes_distribution['Other'] += 1\n",
    "        \n",
    "# ================================================== #\n",
    "#         Functions for Updating Zip Codes           #\n",
    "# ================================================== #\n",
    "def update_zip_code(zip_code):\n",
    "    '''Update zip code format to five digits only\n",
    "    \n",
    "    This funtion is used to correct inconsistent zip code formats during XML to csv conversion\n",
    "    \n",
    "    Arg:\n",
    "    zip_code: a raw zip code from the dataset\n",
    "    \n",
    "    Return:\n",
    "    zip_code: an updated zip code consists with 5 digits \n",
    "    '''\n",
    "    # Update zip code format to five digits 'XXXXX'\n",
    "    if re.search(r';', zip_code):\n",
    "        zip_code = zip_code.split(';')[0] # Keep the first zip code for 'XXXXX;XXXXX' format\n",
    "    digits = re.sub('\\D', '', zip_code)\n",
    "    if len(digits) ==  5: \n",
    "        zip_code = digits # 'XXXXX' stays the same\n",
    "    elif len(digits) == 9: \n",
    "        zip_code = digits[:5] # 'XXXXX-XXXX' only keeps the first 5 digits\n",
    "    return zip_code\n"
   ]
  },
  {
   "cell_type": "markdown",
   "metadata": {},
   "source": [
    "## 2.2 Inconsistent Street Types\n",
    "\n",
    "**Examples: \"Street\", \"street\", \"St\", \"St.\"**\n",
    "\n",
    "The street types of addresses in the dataset are inconstistent in terms of abbreviations and lower/upper cases. First by auditing the street types I will build a mapping to map different types of street type abbreviations and lower/upper cases to non-abbreviated street types with first letter capitalized (e.g. \"Street\", \"Avenue\"). Then I will use a update_name function to update the better updated addresses during XML to csv conversion."
   ]
  },
  {
   "cell_type": "code",
   "execution_count": 4,
   "metadata": {
    "collapsed": true
   },
   "outputs": [],
   "source": [
    "# ================================================== #\n",
    "#     Helper Functions for Auditing Street Types     #\n",
    "# ================================================== #\n",
    "street_type_re = re.compile(r'\\b\\S+\\.?$', re.IGNORECASE)\n",
    "\n",
    "# Expected good street types\n",
    "expected = ['Street', 'Avenue', 'Boulevard', 'Drive', 'Court', \n",
    "            'Place', 'Square', 'Lane', 'Road', 'Trail', \n",
    "            'Parkway', 'Commons', 'Broadway', 'Highway', 'Crescent', \n",
    "            'Park', 'Plaza', 'Terrace', 'Way', 'Walk', \n",
    "            'East', 'South', 'West', 'North', 'Alley', \n",
    "            'Circle', 'Center']\n",
    "\n",
    "# Mapping from bad street types to good street types\n",
    "mapping = { 'Americas\\n': 'Americas',\n",
    "            'ave': 'Avenue',\n",
    "            'avenue': 'Avenue',\n",
    "            'Ave': 'Avenue',\n",
    "            'Ave.': 'Avenue',\n",
    "            'Avene': 'Avenue',\n",
    "            'Aveneu': 'Avenue',\n",
    "            'Blv': 'Boulevard',\n",
    "            'Blvd': 'Boulevard',\n",
    "            'Broadway.': 'Broadway',\n",
    "            'Ctr': 'Center',\n",
    "            'Plz': 'Plaza',\n",
    "            'Rd.': 'Road',\n",
    "            'S': 'South',\n",
    "            'st': 'Street',\n",
    "            'St': 'Street',\n",
    "            'St.': 'Street',\n",
    "            'Steet': 'Street',\n",
    "            'street': 'Street',\n",
    "            'Streeet': 'Street',\n",
    "            'ST': 'Street'\n",
    "            }\n",
    "\n",
    "def is_street_name(elem):\n",
    "    return (elem.attrib['k'] == 'addr:street')\n",
    "\n",
    "def audit_street_type(street_types, street_name):\n",
    "    '''Audit street type\n",
    "    \n",
    "    This function updates the dictionary showing the street type and its corresponding\n",
    "    set of street names with that street type.\n",
    "    \n",
    "    Arg:\n",
    "    street_types: A dictionary of street type: a set of street names wtih that street type\n",
    "    street_name: A street name\n",
    "    '''\n",
    "    \n",
    "    matched = street_type_re.search(street_name)\n",
    "    if matched:\n",
    "        street_type = matched.group()\n",
    "        if street_type not in expected:\n",
    "            street_types[street_type].add(street_name)\n",
    "            \n",
    "# ================================================== #\n",
    "#        Functions for Updating Street Types         #\n",
    "# ================================================== # \n",
    "# Funtion to be used to correct inconsistent street types during XML to csv conversion\n",
    "def update_name(name, mapping):\n",
    "    '''Update street name to good format\n",
    "    \n",
    "    This funtion is used to correct inconsistent street name formats during XML to csv conversion\n",
    "    \n",
    "    Arg:\n",
    "    name: a raw street name from the dataset\n",
    "    mapping: a dictionary of bad street type: good street type\n",
    "    \n",
    "    Return:\n",
    "    name: an updated street name of full street type name with the first letter capitalized\n",
    "    '''\n",
    "    street_kind = name.split(' ')[-1] # Last word of address is the street type\n",
    "    if street_kind in mapping:\n",
    "        street_kind_better = mapping[street_kind]\n",
    "        name = name.replace(street_kind, street_kind_better)\n",
    "    return name"
   ]
  },
  {
   "cell_type": "markdown",
   "metadata": {},
   "source": [
    "## 2.3 Inconsistent Phone Number Formats\n",
    "\n",
    "**Examples: \"(212) 333-3100\", \"+1 212 228-7732\", \"2122391222\", \"718-731-3100\"**\n",
    "\n",
    "The phone number formats in the dataset are also inconsistent. I will update the phone number format to +1-XXX-XXX-XXXX by using a update_phone_number function, and later I will use this during XML to csv conversion. If more than one phone number is listed for any given address, I will only keep the first one for more consistent queries."
   ]
  },
  {
   "cell_type": "code",
   "execution_count": 5,
   "metadata": {
    "collapsed": true
   },
   "outputs": [],
   "source": [
    "# ================================================== #\n",
    "#    Helper Functions for Auditing Phone Numbers     #\n",
    "# ================================================== #            \n",
    "def is_phone(elem):\n",
    "    return (elem.attrib['k'] == \"phone\" or elem.attrib['k'] == \"contact:phone\")\n",
    "\n",
    "def audit_phone_number_formats(phone_number_formats, phone_number):\n",
    "    '''Audit phone numbers\n",
    "    \n",
    "    This function updates a dictionary showing the distribution of phone number formats.\n",
    "    \n",
    "    Arg:\n",
    "    phone_number_formats: A dictionary of phone number format: counts of phone numbers of that format\n",
    "    phone_number: A phone number\n",
    "    '''\n",
    "    \n",
    "    # Convert any digit to an 'X' sign (e.g. '(212) 333-3100' becomes '(XXX) XXX-XXXX')\n",
    "    phone_number_format = re.sub('\\d', 'X', phone_number)\n",
    "    phone_number_formats[phone_number_format] += 1\n",
    "\n",
    "# ================================================== #\n",
    "#       Functions for Updating Phone Numbers         #\n",
    "# ================================================== # \n",
    "# Funtion to be used to correct inconsistent phone number formats during XML to csv conversion\n",
    "def update_phone_number(phone_number):\n",
    "    '''Update phone number format to '+1-XXX-XXX-XXXX'\n",
    "    \n",
    "    This funtion is used to correct inconsistent phone number formats during XML to csv conversion\n",
    "    \n",
    "    Arg:\n",
    "    phone_number: a raw phone number from the dataset\n",
    "    \n",
    "    Return:\n",
    "    phone_number: an updated phone number with the format '+1-XXX-XXX-XXXX'\n",
    "    \n",
    "    '''\n",
    "    # Keep the first phone number if more than one is present\n",
    "    if re.search(r';', phone_number):\n",
    "        phone_number = phone_number.split(';')[0] # Phone numbers are separated by ';'\n",
    "    elif re.search(r'/', phone_number):\n",
    "        phone_number = phone_number.split('/')[0] # Phone numbers are separated by '/'\n",
    "    \n",
    "    digits = re.sub('\\D', '', phone_number)\n",
    "    if len(digits) == 11: # 1XXXXXXXXXX\n",
    "        return '+' + digits[0] + '-' + digits[1:4] + '-' + digits[4:7] + '-' + digits[7:]\n",
    "    elif len(digits) == 10: # XXXXXXXXXX\n",
    "        return '+1' + '-' + digits[:3] + '-' + digits[3:6] + '-' + digits[6:]\n",
    "    elif len(digits) == 12: # 01XXXXXXXXXX\n",
    "        return '+' + digits[1] + '-' + digits[2:5] + '-' + digits[5:8] + '-' + digits[8:]\n",
    "    elif len(digits) == 13: # 001XXXXXXXXXX\n",
    "        return '+' + digits[2] + '-' + digits[3:6] + '-' + digits[6:9] + '-' + digits[9:]\n",
    "    else:\n",
    "        return phone_number"
   ]
  },
  {
   "cell_type": "code",
   "execution_count": null,
   "metadata": {
    "collapsed": true
   },
   "outputs": [],
   "source": []
  }
 ],
 "metadata": {
  "kernelspec": {
   "display_name": "Python 3",
   "language": "python",
   "name": "python3"
  },
  "language_info": {
   "codemirror_mode": {
    "name": "ipython",
    "version": 3
   },
   "file_extension": ".py",
   "mimetype": "text/x-python",
   "name": "python",
   "nbconvert_exporter": "python",
   "pygments_lexer": "ipython3",
   "version": "3.6.2"
  }
 },
 "nbformat": 4,
 "nbformat_minor": 2
}
